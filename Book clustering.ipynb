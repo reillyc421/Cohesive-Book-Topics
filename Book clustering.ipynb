{
 "cells": [
  {
   "cell_type": "markdown",
   "id": "0ba5df10-504c-406c-86dd-74b7aadc976a",
   "metadata": {},
   "source": [
    "# Cohesive Topics for Books: Cluster books by description\n",
    "This project will use TF-IDF, Word2Vec, and NMF to cluster books from Amazon into topics based on their book descriptions.\n",
    "Data source: https://www.kaggle.com/datasets/mohamedbakhet/amazon-books-reviews/"
   ]
  },
  {
   "cell_type": "code",
   "execution_count": 1,
   "id": "e0d1e63c-738b-4356-b8c1-4f95bd615309",
   "metadata": {},
   "outputs": [],
   "source": [
    "import numpy as np\n",
    "import pandas as pd\n",
    "from difflib import SequenceMatcher\n",
    "import matplotlib.pyplot as plt\n",
    "from sklearn.feature_extraction.text import TfidfVectorizer\n",
    "import nltk\n",
    "\n",
    "import subprocess\n",
    "\n",
    "from nltk.corpus import wordnet\n",
    "\n",
    "from nltk.corpus import stopwords\n",
    "from nltk import word_tokenize\n",
    "from nltk.stem import WordNetLemmatizer\n",
    "import string\n",
    "\n",
    "from sklearn.decomposition import NMF\n",
    "import re\n",
    "import gensim\n",
    "from itertools import combinations\n"
   ]
  },
  {
   "cell_type": "code",
   "execution_count": 2,
   "id": "56e71eac-8f86-4423-a7ed-218b9dc4c85e",
   "metadata": {},
   "outputs": [],
   "source": [
    "# Load data\n",
    "books_df = pd.read_csv(r\"C:\\Users\\mmull\\OneDrive\\Documents\\MSDS\\ML Unsupervised Project\\books_data.csv\\books_data.csv\")"
   ]
  },
  {
   "cell_type": "code",
   "execution_count": 3,
   "id": "edc52cae-6472-467d-89f4-5195f9f8bdd9",
   "metadata": {},
   "outputs": [
    {
     "data": {
      "text/html": [
       "<div>\n",
       "<style scoped>\n",
       "    .dataframe tbody tr th:only-of-type {\n",
       "        vertical-align: middle;\n",
       "    }\n",
       "\n",
       "    .dataframe tbody tr th {\n",
       "        vertical-align: top;\n",
       "    }\n",
       "\n",
       "    .dataframe thead th {\n",
       "        text-align: right;\n",
       "    }\n",
       "</style>\n",
       "<table border=\"1\" class=\"dataframe\">\n",
       "  <thead>\n",
       "    <tr style=\"text-align: right;\">\n",
       "      <th></th>\n",
       "      <th>Title</th>\n",
       "      <th>description</th>\n",
       "      <th>authors</th>\n",
       "      <th>image</th>\n",
       "      <th>previewLink</th>\n",
       "      <th>publisher</th>\n",
       "      <th>publishedDate</th>\n",
       "      <th>infoLink</th>\n",
       "      <th>categories</th>\n",
       "      <th>ratingsCount</th>\n",
       "    </tr>\n",
       "  </thead>\n",
       "  <tbody>\n",
       "    <tr>\n",
       "      <th>0</th>\n",
       "      <td>Its Only Art If Its Well Hung!</td>\n",
       "      <td>NaN</td>\n",
       "      <td>['Julie Strain']</td>\n",
       "      <td>http://books.google.com/books/content?id=DykPA...</td>\n",
       "      <td>http://books.google.nl/books?id=DykPAAAACAAJ&amp;d...</td>\n",
       "      <td>NaN</td>\n",
       "      <td>1996</td>\n",
       "      <td>http://books.google.nl/books?id=DykPAAAACAAJ&amp;d...</td>\n",
       "      <td>['Comics &amp; Graphic Novels']</td>\n",
       "      <td>NaN</td>\n",
       "    </tr>\n",
       "    <tr>\n",
       "      <th>1</th>\n",
       "      <td>Dr. Seuss: American Icon</td>\n",
       "      <td>Philip Nel takes a fascinating look into the k...</td>\n",
       "      <td>['Philip Nel']</td>\n",
       "      <td>http://books.google.com/books/content?id=IjvHQ...</td>\n",
       "      <td>http://books.google.nl/books?id=IjvHQsCn_pgC&amp;p...</td>\n",
       "      <td>A&amp;C Black</td>\n",
       "      <td>2005-01-01</td>\n",
       "      <td>http://books.google.nl/books?id=IjvHQsCn_pgC&amp;d...</td>\n",
       "      <td>['Biography &amp; Autobiography']</td>\n",
       "      <td>NaN</td>\n",
       "    </tr>\n",
       "    <tr>\n",
       "      <th>2</th>\n",
       "      <td>Wonderful Worship in Smaller Churches</td>\n",
       "      <td>This resource includes twelve principles in un...</td>\n",
       "      <td>['David R. Ray']</td>\n",
       "      <td>http://books.google.com/books/content?id=2tsDA...</td>\n",
       "      <td>http://books.google.nl/books?id=2tsDAAAACAAJ&amp;d...</td>\n",
       "      <td>NaN</td>\n",
       "      <td>2000</td>\n",
       "      <td>http://books.google.nl/books?id=2tsDAAAACAAJ&amp;d...</td>\n",
       "      <td>['Religion']</td>\n",
       "      <td>NaN</td>\n",
       "    </tr>\n",
       "    <tr>\n",
       "      <th>3</th>\n",
       "      <td>Whispers of the Wicked Saints</td>\n",
       "      <td>Julia Thomas finds her life spinning out of co...</td>\n",
       "      <td>['Veronica Haddon']</td>\n",
       "      <td>http://books.google.com/books/content?id=aRSIg...</td>\n",
       "      <td>http://books.google.nl/books?id=aRSIgJlq6JwC&amp;d...</td>\n",
       "      <td>iUniverse</td>\n",
       "      <td>2005-02</td>\n",
       "      <td>http://books.google.nl/books?id=aRSIgJlq6JwC&amp;d...</td>\n",
       "      <td>['Fiction']</td>\n",
       "      <td>NaN</td>\n",
       "    </tr>\n",
       "    <tr>\n",
       "      <th>4</th>\n",
       "      <td>Nation Dance: Religion, Identity and Cultural ...</td>\n",
       "      <td>NaN</td>\n",
       "      <td>['Edward Long']</td>\n",
       "      <td>NaN</td>\n",
       "      <td>http://books.google.nl/books?id=399SPgAACAAJ&amp;d...</td>\n",
       "      <td>NaN</td>\n",
       "      <td>2003-03-01</td>\n",
       "      <td>http://books.google.nl/books?id=399SPgAACAAJ&amp;d...</td>\n",
       "      <td>NaN</td>\n",
       "      <td>NaN</td>\n",
       "    </tr>\n",
       "  </tbody>\n",
       "</table>\n",
       "</div>"
      ],
      "text/plain": [
       "                                               Title  \\\n",
       "0                     Its Only Art If Its Well Hung!   \n",
       "1                           Dr. Seuss: American Icon   \n",
       "2              Wonderful Worship in Smaller Churches   \n",
       "3                      Whispers of the Wicked Saints   \n",
       "4  Nation Dance: Religion, Identity and Cultural ...   \n",
       "\n",
       "                                         description              authors  \\\n",
       "0                                                NaN     ['Julie Strain']   \n",
       "1  Philip Nel takes a fascinating look into the k...       ['Philip Nel']   \n",
       "2  This resource includes twelve principles in un...     ['David R. Ray']   \n",
       "3  Julia Thomas finds her life spinning out of co...  ['Veronica Haddon']   \n",
       "4                                                NaN      ['Edward Long']   \n",
       "\n",
       "                                               image  \\\n",
       "0  http://books.google.com/books/content?id=DykPA...   \n",
       "1  http://books.google.com/books/content?id=IjvHQ...   \n",
       "2  http://books.google.com/books/content?id=2tsDA...   \n",
       "3  http://books.google.com/books/content?id=aRSIg...   \n",
       "4                                                NaN   \n",
       "\n",
       "                                         previewLink  publisher publishedDate  \\\n",
       "0  http://books.google.nl/books?id=DykPAAAACAAJ&d...        NaN          1996   \n",
       "1  http://books.google.nl/books?id=IjvHQsCn_pgC&p...  A&C Black    2005-01-01   \n",
       "2  http://books.google.nl/books?id=2tsDAAAACAAJ&d...        NaN          2000   \n",
       "3  http://books.google.nl/books?id=aRSIgJlq6JwC&d...  iUniverse       2005-02   \n",
       "4  http://books.google.nl/books?id=399SPgAACAAJ&d...        NaN    2003-03-01   \n",
       "\n",
       "                                            infoLink  \\\n",
       "0  http://books.google.nl/books?id=DykPAAAACAAJ&d...   \n",
       "1  http://books.google.nl/books?id=IjvHQsCn_pgC&d...   \n",
       "2  http://books.google.nl/books?id=2tsDAAAACAAJ&d...   \n",
       "3  http://books.google.nl/books?id=aRSIgJlq6JwC&d...   \n",
       "4  http://books.google.nl/books?id=399SPgAACAAJ&d...   \n",
       "\n",
       "                      categories  ratingsCount  \n",
       "0    ['Comics & Graphic Novels']           NaN  \n",
       "1  ['Biography & Autobiography']           NaN  \n",
       "2                   ['Religion']           NaN  \n",
       "3                    ['Fiction']           NaN  \n",
       "4                            NaN           NaN  "
      ]
     },
     "execution_count": 3,
     "metadata": {},
     "output_type": "execute_result"
    }
   ],
   "source": [
    "books_df.head()"
   ]
  },
  {
   "cell_type": "markdown",
   "id": "6cffdbf9-0b19-44e7-bcc5-5118a20dc1a9",
   "metadata": {},
   "source": [
    "## Data Cleaning\n",
    "- Remove columns\n",
    "- Drop NAs\n",
    "- Drop descriptions below threshold\n",
    "- Delete extra editions of books"
   ]
  },
  {
   "cell_type": "code",
   "execution_count": 4,
   "id": "80c6966d-1e7e-44e1-9b8f-c86b37edf513",
   "metadata": {},
   "outputs": [],
   "source": [
    "# Drop columns\n",
    "books_df.drop(['image', 'previewLink', 'infoLink', 'ratingsCount', 'publishedDate', 'publisher'], axis = 1, inplace = True)"
   ]
  },
  {
   "cell_type": "code",
   "execution_count": 52,
   "id": "fdf3aec4-ec5a-4e3c-9298-9b7f87586601",
   "metadata": {},
   "outputs": [],
   "source": [
    "# Remove square brackets and quotation marks\n",
    "books_df['categories'] = books_df['categories'].str.strip('[]\\'')\n",
    "books_df['authors'] = books_df['authors'].str.strip('[]\\'')\n",
    "\n",
    "# Remove rows with nulls\n",
    "books_df.dropna(inplace = True)\n",
    "books_df.drop(books_df[books_df['authors'] == 'nan'].index, inplace=True)\n",
    "\n",
    "# Delete descriptions with length below threshold (median length)\n",
    "\n",
    "desc_length = books_df['description'].str.len()\n",
    "removed = desc_length[desc_length < 553]\n",
    "books_df.drop(removed.index, axis = 0, inplace = True)"
   ]
  },
  {
   "cell_type": "code",
   "execution_count": 6,
   "id": "909427d3-4e23-4c53-a608-82e75e759c78",
   "metadata": {},
   "outputs": [
    {
     "data": {
      "text/html": [
       "<div>\n",
       "<style scoped>\n",
       "    .dataframe tbody tr th:only-of-type {\n",
       "        vertical-align: middle;\n",
       "    }\n",
       "\n",
       "    .dataframe tbody tr th {\n",
       "        vertical-align: top;\n",
       "    }\n",
       "\n",
       "    .dataframe thead th {\n",
       "        text-align: right;\n",
       "    }\n",
       "</style>\n",
       "<table border=\"1\" class=\"dataframe\">\n",
       "  <thead>\n",
       "    <tr style=\"text-align: right;\">\n",
       "      <th></th>\n",
       "      <th>Title</th>\n",
       "      <th>description</th>\n",
       "      <th>authors</th>\n",
       "      <th>categories</th>\n",
       "    </tr>\n",
       "  </thead>\n",
       "  <tbody>\n",
       "    <tr>\n",
       "      <th>18444</th>\n",
       "      <td>The Lightning-Rod Man</td>\n",
       "      <td>When an unnamed narrator opens his door to a l...</td>\n",
       "      <td>Herman Melville</td>\n",
       "      <td>Fiction</td>\n",
       "    </tr>\n",
       "    <tr>\n",
       "      <th>24377</th>\n",
       "      <td>Moby Dick</td>\n",
       "      <td>Moby Dick is a novel by American author Herman...</td>\n",
       "      <td>Herman Melville</td>\n",
       "      <td>Young Adult Fiction</td>\n",
       "    </tr>\n",
       "    <tr>\n",
       "      <th>39759</th>\n",
       "      <td>Moby Dick, or The Whale (The 100 Greatest Book...</td>\n",
       "      <td>Moby Dick is a novel by American writer Herman...</td>\n",
       "      <td>Herman Melville</td>\n",
       "      <td>Fiction</td>\n",
       "    </tr>\n",
       "    <tr>\n",
       "      <th>65102</th>\n",
       "      <td>Moby-Dick: or, The Whale (Penguin Classics Del...</td>\n",
       "      <td>Herman Melville’s masterpiece, one of the grea...</td>\n",
       "      <td>Herman Melville</td>\n",
       "      <td>Fiction</td>\n",
       "    </tr>\n",
       "    <tr>\n",
       "      <th>79776</th>\n",
       "      <td>Moby Dick;: Or, The whale,</td>\n",
       "      <td>Moby Dick is a novel by American writer Herman...</td>\n",
       "      <td>Herman Melville</td>\n",
       "      <td>Fiction</td>\n",
       "    </tr>\n",
       "    <tr>\n",
       "      <th>110202</th>\n",
       "      <td>Moby Dick Or the Whale</td>\n",
       "      <td>Moby-Dick is one of the great epics in all of ...</td>\n",
       "      <td>Herman Melville</td>\n",
       "      <td>Fiction</td>\n",
       "    </tr>\n",
       "    <tr>\n",
       "      <th>111999</th>\n",
       "      <td>Omoo: A narrative of adventures in the South seas</td>\n",
       "      <td>Melville’s continuing adventures in the South ...</td>\n",
       "      <td>Herman Melville</td>\n",
       "      <td>Fiction</td>\n",
       "    </tr>\n",
       "    <tr>\n",
       "      <th>116082</th>\n",
       "      <td>Moby-Dick or The Whale</td>\n",
       "      <td>Moby-Dick is one of the great epics in all of ...</td>\n",
       "      <td>Herman Melville</td>\n",
       "      <td>Fiction</td>\n",
       "    </tr>\n",
       "    <tr>\n",
       "      <th>117282</th>\n",
       "      <td>Israel Potter</td>\n",
       "      <td>\"Israel Potter: His Fifty Years of Exile\" by H...</td>\n",
       "      <td>Herman Melville</td>\n",
       "      <td>Fiction</td>\n",
       "    </tr>\n",
       "    <tr>\n",
       "      <th>133567</th>\n",
       "      <td>Billy Budd, Sailor and Other Stories</td>\n",
       "      <td>If Melville had never written Moby Dick, his p...</td>\n",
       "      <td>Herman Melville</td>\n",
       "      <td>Fiction</td>\n",
       "    </tr>\n",
       "    <tr>\n",
       "      <th>140100</th>\n",
       "      <td>Omoo: A narrative of adventures in the South Seas</td>\n",
       "      <td>Melville’s continuing adventures in the South ...</td>\n",
       "      <td>Herman Melville</td>\n",
       "      <td>Fiction</td>\n",
       "    </tr>\n",
       "    <tr>\n",
       "      <th>150443</th>\n",
       "      <td>Pierre or, the Ambiguities</td>\n",
       "      <td>THERE are some strange summer mornings in the ...</td>\n",
       "      <td>Herman Melville</td>\n",
       "      <td>Fiction</td>\n",
       "    </tr>\n",
       "    <tr>\n",
       "      <th>156306</th>\n",
       "      <td>Israel Potter,: His fifty years of exile (The ...</td>\n",
       "      <td>Based on the life of an actual soldier who cla...</td>\n",
       "      <td>Herman Melville</td>\n",
       "      <td>American fiction</td>\n",
       "    </tr>\n",
       "    <tr>\n",
       "      <th>158442</th>\n",
       "      <td>Moby Dick or The White Whale (World's Greatest...</td>\n",
       "      <td>Moby Dick is a novel by American writer Herman...</td>\n",
       "      <td>Herman Melville</td>\n",
       "      <td>Fiction</td>\n",
       "    </tr>\n",
       "    <tr>\n",
       "      <th>169403</th>\n",
       "      <td>Moby Dick or the White Whale</td>\n",
       "      <td>Moby Dick is a novel by American writer Herman...</td>\n",
       "      <td>Herman Melville</td>\n",
       "      <td>Fiction</td>\n",
       "    </tr>\n",
       "    <tr>\n",
       "      <th>179684</th>\n",
       "      <td>Moby Dick or the Whale (The World's Classics)</td>\n",
       "      <td>Moby Dick is a novel by American author Herman...</td>\n",
       "      <td>Herman Melville</td>\n",
       "      <td>Young Adult Fiction</td>\n",
       "    </tr>\n",
       "    <tr>\n",
       "      <th>204326</th>\n",
       "      <td>Billy Budd, Sailor, and Other Stories</td>\n",
       "      <td>If Melville had never written Moby Dick, his p...</td>\n",
       "      <td>Herman Melville</td>\n",
       "      <td>Fiction</td>\n",
       "    </tr>\n",
       "    <tr>\n",
       "      <th>210776</th>\n",
       "      <td>The Complete Works of Herman Melville (The Com...</td>\n",
       "      <td>This carefully crafted ebook: \"The Complete Wo...</td>\n",
       "      <td>Herman Melville</td>\n",
       "      <td>Fiction</td>\n",
       "    </tr>\n",
       "  </tbody>\n",
       "</table>\n",
       "</div>"
      ],
      "text/plain": [
       "                                                    Title  \\\n",
       "18444                               The Lightning-Rod Man   \n",
       "24377                                           Moby Dick   \n",
       "39759   Moby Dick, or The Whale (The 100 Greatest Book...   \n",
       "65102   Moby-Dick: or, The Whale (Penguin Classics Del...   \n",
       "79776                          Moby Dick;: Or, The whale,   \n",
       "110202                             Moby Dick Or the Whale   \n",
       "111999  Omoo: A narrative of adventures in the South seas   \n",
       "116082                             Moby-Dick or The Whale   \n",
       "117282                                      Israel Potter   \n",
       "133567               Billy Budd, Sailor and Other Stories   \n",
       "140100  Omoo: A narrative of adventures in the South Seas   \n",
       "150443                         Pierre or, the Ambiguities   \n",
       "156306  Israel Potter,: His fifty years of exile (The ...   \n",
       "158442  Moby Dick or The White Whale (World's Greatest...   \n",
       "169403                       Moby Dick or the White Whale   \n",
       "179684      Moby Dick or the Whale (The World's Classics)   \n",
       "204326              Billy Budd, Sailor, and Other Stories   \n",
       "210776  The Complete Works of Herman Melville (The Com...   \n",
       "\n",
       "                                              description          authors  \\\n",
       "18444   When an unnamed narrator opens his door to a l...  Herman Melville   \n",
       "24377   Moby Dick is a novel by American author Herman...  Herman Melville   \n",
       "39759   Moby Dick is a novel by American writer Herman...  Herman Melville   \n",
       "65102   Herman Melville’s masterpiece, one of the grea...  Herman Melville   \n",
       "79776   Moby Dick is a novel by American writer Herman...  Herman Melville   \n",
       "110202  Moby-Dick is one of the great epics in all of ...  Herman Melville   \n",
       "111999  Melville’s continuing adventures in the South ...  Herman Melville   \n",
       "116082  Moby-Dick is one of the great epics in all of ...  Herman Melville   \n",
       "117282  \"Israel Potter: His Fifty Years of Exile\" by H...  Herman Melville   \n",
       "133567  If Melville had never written Moby Dick, his p...  Herman Melville   \n",
       "140100  Melville’s continuing adventures in the South ...  Herman Melville   \n",
       "150443  THERE are some strange summer mornings in the ...  Herman Melville   \n",
       "156306  Based on the life of an actual soldier who cla...  Herman Melville   \n",
       "158442  Moby Dick is a novel by American writer Herman...  Herman Melville   \n",
       "169403  Moby Dick is a novel by American writer Herman...  Herman Melville   \n",
       "179684  Moby Dick is a novel by American author Herman...  Herman Melville   \n",
       "204326  If Melville had never written Moby Dick, his p...  Herman Melville   \n",
       "210776  This carefully crafted ebook: \"The Complete Wo...  Herman Melville   \n",
       "\n",
       "                 categories  \n",
       "18444               Fiction  \n",
       "24377   Young Adult Fiction  \n",
       "39759               Fiction  \n",
       "65102               Fiction  \n",
       "79776               Fiction  \n",
       "110202              Fiction  \n",
       "111999              Fiction  \n",
       "116082              Fiction  \n",
       "117282              Fiction  \n",
       "133567              Fiction  \n",
       "140100              Fiction  \n",
       "150443              Fiction  \n",
       "156306     American fiction  \n",
       "158442              Fiction  \n",
       "169403              Fiction  \n",
       "179684  Young Adult Fiction  \n",
       "204326              Fiction  \n",
       "210776              Fiction  "
      ]
     },
     "execution_count": 6,
     "metadata": {},
     "output_type": "execute_result"
    }
   ],
   "source": [
    "# Check for duplicates\n",
    "books_df[books_df['authors'] == 'Herman Melville']"
   ]
  },
  {
   "cell_type": "code",
   "execution_count": 7,
   "id": "cd4ef913-869f-4cfc-a5c4-df062693688e",
   "metadata": {},
   "outputs": [],
   "source": [
    "# Find and delete duplicates of books (same book with different editions)\n",
    "\n",
    "def similar(str1, str2):\n",
    "    return SequenceMatcher(None, str1, str2).ratio()\n",
    "\n",
    "def find_duplicate_books(df, authors):\n",
    "    for author in authors:\n",
    "        for title1 in df[df['authors'] == author]['Title']:\n",
    "            for title2 in df[df['authors'] == author]['Title']:\n",
    "                similarity = similar(title1, title2)\n",
    "                if similarity > 0.6 and similarity < 1:\n",
    "                    df.drop(df.loc[df['Title'] == title2].index, inplace=True)"
   ]
  },
  {
   "cell_type": "code",
   "execution_count": 8,
   "id": "142f79dd-4a54-440f-889e-a900f928ead5",
   "metadata": {
    "scrolled": true
   },
   "outputs": [],
   "source": [
    "authors = books_df['authors'].value_counts()\n",
    "target_authors = (authors > 1).index.to_list()\n",
    "find_duplicate_books(books_df, target_authors)"
   ]
  },
  {
   "cell_type": "markdown",
   "id": "9e411222-57b6-4b0f-904c-178780b02f90",
   "metadata": {},
   "source": [
    "## EDA\n",
    "Histograms for authors and categories. Descriptive statistics for authors, categories, and descriptions."
   ]
  },
  {
   "cell_type": "code",
   "execution_count": 62,
   "id": "f9fabc54-9329-4149-8d4d-aabe05ef6dee",
   "metadata": {},
   "outputs": [
    {
     "data": {
      "text/plain": [
       "Text(0.5, 1.0, 'Top 20 Authors')"
      ]
     },
     "execution_count": 62,
     "metadata": {},
     "output_type": "execute_result"
    },
    {
     "data": {
      "image/png": "[encoded data removed]",
      "text/plain": [
       "<Figure size 640x480 with 1 Axes>"
      ]
     },
     "metadata": {},
     "output_type": "display_data"
    }
   ],
   "source": [
    "author_counts = books_df['authors'].value_counts()\n",
    "top = author_counts[:20]\n",
    "fig, ax = plt.subplots()\n",
    "top.plot(ax = ax, kind = 'bar')\n",
    "plt.title('Top 20 Authors')"
   ]
  },
  {
   "cell_type": "code",
   "execution_count": 30,
   "id": "98cfef0d-6e87-426f-9182-ac359108dcfe",
   "metadata": {},
   "outputs": [
    {
     "data": {
      "text/plain": [
       "Text(0.5, 1.0, 'Top 20 Categories (by Book Count)')"
      ]
     },
     "execution_count": 30,
     "metadata": {},
     "output_type": "execute_result"
    },
    {
     "data": {
      "image/png": "[encoded data removed]",
      "text/plain": [
       "<Figure size 640x480 with 1 Axes>"
      ]
     },
     "metadata": {},
     "output_type": "display_data"
    }
   ],
   "source": [
    "category_counts_book = books_df['categories'].value_counts()\n",
    "top_by_book = category_counts_book[:20]\n",
    "fig, ax = plt.subplots()\n",
    "top_by_book.plot(ax = ax, kind = 'bar')\n",
    "plt.title('Top 20 Categories (by Book Count)')"
   ]
  },
  {
   "cell_type": "code",
   "execution_count": 75,
   "id": "1f5337c3-1245-41c1-97b5-373ce703e2db",
   "metadata": {},
   "outputs": [
    {
     "name": "stdout",
     "output_type": "stream",
     "text": [
      "authors\n",
      "Mean: 1.162163689803301\n",
      "Median: 1.0\n",
      "Min: 1\n",
      "Max: 37\n",
      "categories\n",
      "Mean: 30.099571734475376\n",
      "Median: 1.0\n",
      "Min: 1\n",
      "Max: 10048\n",
      "descriptions\n",
      "Mean: 939.1645104810077\n",
      "Median: 834.0\n",
      "Min: 553\n",
      "Max: 14086\n"
     ]
    }
   ],
   "source": [
    "# Mean, median, min, max\n",
    "for feat in [('authors', author_counts), ('categories', category_counts_book), ('descriptions', books_df['description'].str.len())]:\n",
    "    print(feat[0])\n",
    "    print('Mean:', np.mean(feat[1]))\n",
    "    print('Median:', np.median(feat[1]))\n",
    "    print('Min:', np.min(feat[1]))\n",
    "    print('Max:', np.max(feat[1]))"
   ]
  },
  {
   "cell_type": "markdown",
   "id": "0a622728-0bac-48d9-9033-7fcbd433172a",
   "metadata": {},
   "source": [
    "## Pre-processing Text"
   ]
  },
  {
   "cell_type": "code",
   "execution_count": 10,
   "id": "1d2b1c0b-febc-4089-957c-866a39b5ddb6",
   "metadata": {},
   "outputs": [],
   "source": [
    "# Text preprocessing\n",
    "# Clean text by removing stop words and punctuation\n",
    "def clean_text(txt):\n",
    "    \n",
    "    # Remove punctuation\n",
    "    txt  = \"\".join([char if char not in string.punctuation else ' ' for char in txt ])\n",
    "    \n",
    "    # Convert to lowercase\n",
    "    txt = txt.lower()\n",
    "    \n",
    "    # Split into words\n",
    "    words = word_tokenize(txt)\n",
    "    \n",
    "    # Lemmatization\n",
    "    lemmatizer = WordNetLemmatizer()\n",
    "    for w in range(len(words)): \n",
    "        words[w] = lemmatizer.lemmatize(words[w])\n",
    "    \n",
    "    # Remove stopwords\n",
    "    stop_words = set(stopwords.words('english'))\n",
    "    words = [w for w in words if not w in stop_words]\n",
    "    \n",
    "    # Removing remaining nonalphabetic words\n",
    "    words = [word for word in words if word.isalpha()]\n",
    "    \n",
    "    # Rejoin the text\n",
    "    cleaned_text = ' '.join(words)\n",
    "    \n",
    "    return cleaned_text"
   ]
  },
  {
   "cell_type": "code",
   "execution_count": 11,
   "id": "a02333b2-80a7-406a-b564-673de93fe1e3",
   "metadata": {},
   "outputs": [
    {
     "data": {
      "text/html": [
       "<div>\n",
       "<style scoped>\n",
       "    .dataframe tbody tr th:only-of-type {\n",
       "        vertical-align: middle;\n",
       "    }\n",
       "\n",
       "    .dataframe tbody tr th {\n",
       "        vertical-align: top;\n",
       "    }\n",
       "\n",
       "    .dataframe thead th {\n",
       "        text-align: right;\n",
       "    }\n",
       "</style>\n",
       "<table border=\"1\" class=\"dataframe\">\n",
       "  <thead>\n",
       "    <tr style=\"text-align: right;\">\n",
       "      <th></th>\n",
       "      <th>Title</th>\n",
       "      <th>description</th>\n",
       "      <th>authors</th>\n",
       "      <th>categories</th>\n",
       "    </tr>\n",
       "  </thead>\n",
       "  <tbody>\n",
       "    <tr>\n",
       "      <th>1</th>\n",
       "      <td>Dr. Seuss: American Icon</td>\n",
       "      <td>philip nel take fascinating look key aspect se...</td>\n",
       "      <td>Philip Nel</td>\n",
       "      <td>Biography &amp; Autobiography</td>\n",
       "    </tr>\n",
       "    <tr>\n",
       "      <th>3</th>\n",
       "      <td>Whispers of the Wicked Saints</td>\n",
       "      <td>julia thomas find life spinning control death ...</td>\n",
       "      <td>Veronica Haddon</td>\n",
       "      <td>Fiction</td>\n",
       "    </tr>\n",
       "    <tr>\n",
       "      <th>5</th>\n",
       "      <td>The Church of Christ: A Biblical Ecclesiology ...</td>\n",
       "      <td>church christ biblical ecclesiology today resp...</td>\n",
       "      <td>Everett Ferguson</td>\n",
       "      <td>Religion</td>\n",
       "    </tr>\n",
       "    <tr>\n",
       "      <th>11</th>\n",
       "      <td>Dramatica for Screenwriters</td>\n",
       "      <td>dramatica screenwriter armando saldana mora mu...</td>\n",
       "      <td>Armando Salda A-Mora</td>\n",
       "      <td>Reference</td>\n",
       "    </tr>\n",
       "    <tr>\n",
       "      <th>12</th>\n",
       "      <td>Mensa Number Puzzles (Mensa Word Games for Kids)</td>\n",
       "      <td>acclaimed teacher puzzler evelyn b christensen...</td>\n",
       "      <td>Evelyn B. Christensen</td>\n",
       "      <td>Juvenile Nonfiction</td>\n",
       "    </tr>\n",
       "  </tbody>\n",
       "</table>\n",
       "</div>"
      ],
      "text/plain": [
       "                                                Title  \\\n",
       "1                            Dr. Seuss: American Icon   \n",
       "3                       Whispers of the Wicked Saints   \n",
       "5   The Church of Christ: A Biblical Ecclesiology ...   \n",
       "11                        Dramatica for Screenwriters   \n",
       "12   Mensa Number Puzzles (Mensa Word Games for Kids)   \n",
       "\n",
       "                                          description                authors  \\\n",
       "1   philip nel take fascinating look key aspect se...             Philip Nel   \n",
       "3   julia thomas find life spinning control death ...        Veronica Haddon   \n",
       "5   church christ biblical ecclesiology today resp...       Everett Ferguson   \n",
       "11  dramatica screenwriter armando saldana mora mu...   Armando Salda A-Mora   \n",
       "12  acclaimed teacher puzzler evelyn b christensen...  Evelyn B. Christensen   \n",
       "\n",
       "                   categories  \n",
       "1   Biography & Autobiography  \n",
       "3                     Fiction  \n",
       "5                    Religion  \n",
       "11                  Reference  \n",
       "12        Juvenile Nonfiction  "
      ]
     },
     "execution_count": 11,
     "metadata": {},
     "output_type": "execute_result"
    }
   ],
   "source": [
    "# Clean the description text\n",
    "books_df['description'] = books_df['description'].apply(lambda txt: clean_text(txt))\n",
    "books_df.head()"
   ]
  },
  {
   "cell_type": "code",
   "execution_count": 44,
   "id": "68fe68be-be40-4685-95b2-279dd6c05dbd",
   "metadata": {},
   "outputs": [
    {
     "name": "stdout",
     "output_type": "stream",
     "text": [
      "Unique words:  147802\n",
      "Most frequent words:  1183\n",
      "Words with single occurrence:  67679\n"
     ]
    },
    {
     "data": {
      "text/plain": [
       "book           50028\n",
       "new            34345\n",
       "life           30830\n",
       "ha             30281\n",
       "one            27513\n",
       "wa             25930\n",
       "world          23285\n",
       "time           21597\n",
       "year           18452\n",
       "work           18181\n",
       "first          17970\n",
       "story          17969\n",
       "author         16574\n",
       "history        14708\n",
       "also           14220\n",
       "way            13203\n",
       "well           12804\n",
       "american       12543\n",
       "reader         12201\n",
       "many           12096\n",
       "woman          12048\n",
       "make           11853\n",
       "guide          11501\n",
       "edition        11275\n",
       "u              11200\n",
       "people         10938\n",
       "family         10932\n",
       "love           10833\n",
       "help           10820\n",
       "student        10601\n",
       "war            10541\n",
       "find           10503\n",
       "study          10377\n",
       "child          10064\n",
       "two             9903\n",
       "de              9707\n",
       "best            9450\n",
       "including       9417\n",
       "chapter         8807\n",
       "take            8766\n",
       "need            8717\n",
       "day             8679\n",
       "offer           8631\n",
       "like            8538\n",
       "information     8517\n",
       "century         8443\n",
       "text            8033\n",
       "provides        8029\n",
       "man             7949\n",
       "show            7898\n",
       "Name: count, dtype: int64"
      ]
     },
     "execution_count": 44,
     "metadata": {},
     "output_type": "execute_result"
    }
   ],
   "source": [
    "# Word count analysis\n",
    "word_count = books_df['description'].str.split(expand = True).stack().value_counts()\n",
    "most_frequent = word_count[word_count > 1000]\n",
    "least_frequent = word_count[word_count == 1]\n",
    "print('Unique words: ', word_count.shape[0])\n",
    "print('Most frequent words: ', most_frequent.shape[0])\n",
    "print('Words with single occurrence: ', least_frequent.shape[0])\n"
   ]
  },
  {
   "cell_type": "markdown",
   "id": "eed14fd0-8239-4cb2-ac74-6771acfca7f8",
   "metadata": {},
   "source": [
    "## Modeling\n",
    "Random subsets of 25% of the dataset will be used for analysis. TF-IDF and Word2Vec will be conducted before training the NMF model"
   ]
  },
  {
   "cell_type": "code",
   "execution_count": 13,
   "id": "079f0526-3637-4937-8b96-9c8a429632e4",
   "metadata": {},
   "outputs": [],
   "source": [
    "# Subset\n",
    "subset = books_df.sample(frac = 0.25, random_state = 0)\n"
   ]
  },
  {
   "cell_type": "code",
   "execution_count": 14,
   "id": "ca1ea238-838e-4d98-976b-55c7e3b4f4c4",
   "metadata": {},
   "outputs": [],
   "source": [
    "# TF-IDF \n",
    "\n",
    "tfidf = TfidfVectorizer(stop_words = 'english', max_df = 0.95, min_df = 5)\n",
    "# IDF values and word coordinates (document index, word index) in matrix\n",
    "subset_matrix = tfidf.fit_transform(subset['description']).todense()\n",
    "# Array of words included in the matrix\n",
    "vocabulary = np.array(tfidf.get_feature_names_out())"
   ]
  },
  {
   "cell_type": "code",
   "execution_count": 20,
   "id": "81ea74b2-4419-4f42-a594-dcd7754c53bf",
   "metadata": {},
   "outputs": [],
   "source": [
    "# Word2Vec\n",
    "\n",
    "class TokenGenerator:\n",
    "    def __init__(self, documents):\n",
    "        self.documents = documents\n",
    "        self.stopwords = stopwords\n",
    "        self.tokenizer = re.compile( r\"(?u)\\b\\w\\w+\\b\" )\n",
    "\n",
    "    def __iter__(self):\n",
    "        for doc in self.documents:\n",
    "            tokens = []\n",
    "            for tok in self.tokenizer.findall( doc ):\n",
    "                tokens.append( tok )\n",
    "            yield tokens"
   ]
  },
  {
   "cell_type": "code",
   "execution_count": 21,
   "id": "33cc588c-eaff-46c0-a8b7-9a6a8d59993b",
   "metadata": {},
   "outputs": [
    {
     "name": "stdout",
     "output_type": "stream",
     "text": [
      "Model has 39029 terms\n"
     ]
    }
   ],
   "source": [
    "docgen = TokenGenerator(subset['description'])\n",
    "w2v_model = gensim.models.Word2Vec(docgen, min_count = 2)\n",
    "print(\"Model has %d terms\" % len(w2v_model.wv.key_to_index))"
   ]
  },
  {
   "cell_type": "markdown",
   "id": "da9815b4-eb02-46fc-9415-d16bcc104cf3",
   "metadata": {},
   "source": [
    "### Use subset to choose n_components\n",
    "Values of n_components will range from 20-140. The evaluation metric is mean coherence across topics produced."
   ]
  },
  {
   "cell_type": "code",
   "execution_count": 15,
   "id": "3f68165d-c9d8-45b8-86fd-7b14eefc59d4",
   "metadata": {},
   "outputs": [
    {
     "name": "stdout",
     "output_type": "stream",
     "text": [
      "Unique: 1868\n",
      "Categories with 5+ books: 122\n"
     ]
    }
   ],
   "source": [
    "# Check number of categories in full dataset to set reasonable parameter choices\n",
    "count = books_df['categories'].value_counts()\n",
    "print('Unique:', len(books_df['categories'].unique()))\n",
    "print('Categories with 5+ books:', len(count[count > 4]))"
   ]
  },
  {
   "cell_type": "code",
   "execution_count": 22,
   "id": "6438955b-e9e0-46d0-86cd-b41c60a27e01",
   "metadata": {},
   "outputs": [],
   "source": [
    "# Functions to calculate coherence and identify top terms within topics\n",
    "\n",
    "def get_descriptor( all_terms, H, topic_index, top ):\n",
    "    # reverse sort the values to sort the indices\n",
    "    top_indices = np.argsort( H[topic_index,:] )[::-1]\n",
    "    top_terms = []\n",
    "    for term_index in top_indices[0:top]:\n",
    "        top_terms.append( all_terms[term_index] )\n",
    "    return top_terms\n",
    "\n",
    "def calculate_coherence(model, term_rankings):\n",
    "    overall_coherence = 0.0\n",
    "    topic_scores = []\n",
    "    for topic_index in range(len(term_rankings)):\n",
    "        pair_scores = []\n",
    "        for pair in combinations(term_rankings[topic_index], 2):\n",
    "            if pair[0] not in w2v_model.wv or pair[1] not in w2v_model.wv:\n",
    "                continue\n",
    "            pair_scores.append(w2v_model.wv.similarity(pair[0], pair[1]))\n",
    "        topic_score = np.mean(pair_scores)\n",
    "        overall_coherence += topic_score\n",
    "        topic_scores.append(topic_score)\n",
    "    return overall_coherence/len(term_rankings), topic_scores\n",
    "\n"
   ]
  },
  {
   "cell_type": "code",
   "execution_count": 25,
   "id": "493191ab-f2ab-4166-beb6-0639df69d106",
   "metadata": {},
   "outputs": [
    {
     "name": "stderr",
     "output_type": "stream",
     "text": [
      "C:\\Users\\mmull\\AppData\\Local\\Programs\\Python\\Python312\\Lib\\site-packages\\sklearn\\decomposition\\_nmf.py:1759: ConvergenceWarning: Maximum number of iterations 400 reached. Increase it to improve convergence.\n",
      "  warnings.warn(\n"
     ]
    }
   ],
   "source": [
    "# Create models with different values for n_components\n",
    "\n",
    "k = range(20, 151, 20)\n",
    "topic_models = []\n",
    "for i in k:\n",
    "    nmf = NMF(n_components = i, init = 'nndsvd', max_iter = 400, random_state = 0)\n",
    "    W = nmf.fit_transform(np.asarray(subset_matrix))\n",
    "    H = nmf.components_\n",
    "    topic_models.append((i, W, H))\n"
   ]
  },
  {
   "cell_type": "code",
   "execution_count": 26,
   "id": "d3316014-01f2-4b31-b158-7c5b9ad1a6a7",
   "metadata": {},
   "outputs": [
    {
     "name": "stdout",
     "output_type": "stream",
     "text": [
      "20 0.6210043378174305\n",
      "40 0.6588542871177197\n",
      "60 0.6554128115375837\n",
      "80 0.6537355493754149\n",
      "100 0.64743527084589\n",
      "120 0.6458271066347758\n",
      "140 0.6480557288442339\n"
     ]
    }
   ],
   "source": [
    "k_values = []\n",
    "coherences = []\n",
    "for (k, W, H) in topic_models:\n",
    "    term_rankings = []\n",
    "    for topic_index in range(k):\n",
    "        term_rankings.append(get_descriptor(vocabulary, H, topic_index, 10))\n",
    "    k_values.append(k)\n",
    "    mean_coherence, topic_scores = calculate_coherence(w2v_model, term_rankings)\n",
    "    coherences.append(mean_coherence)\n",
    "    print(k, coherences[-1])"
   ]
  },
  {
   "cell_type": "code",
   "execution_count": 27,
   "id": "42f8e168-7a0a-4529-9e96-cb1edfd7544a",
   "metadata": {},
   "outputs": [
    {
     "data": {
      "image/png": "[encoded data removed]",
      "text/plain": [
       "<Figure size 1300x700 with 1 Axes>"
      ]
     },
     "metadata": {},
     "output_type": "display_data"
    }
   ],
   "source": [
    "fig = plt.figure(figsize=(13,7))\n",
    "ax = plt.plot( k_values, coherences )\n",
    "plt.xticks(k_values)\n",
    "plt.title('Mean Coherences for k Topics')\n",
    "plt.xlabel('Number of Topics')\n",
    "plt.ylabel('Mean Coherence')\n",
    "plt.ylim(0, 1)\n",
    "# add the points\n",
    "plt.scatter(k_values, coherences, s=120)\n",
    "ymax = max(coherences)\n",
    "xpos = coherences.index(ymax)\n",
    "best_k = k_values[xpos]\n",
    "plt.annotate('k=%d' % best_k, xy=(best_k, ymax), xytext=(best_k, ymax), textcoords='offset points', fontsize=16)\n",
    "plt.show()"
   ]
  },
  {
   "cell_type": "markdown",
   "id": "7e4d23a0-9b8d-4692-8d58-24d2b395f515",
   "metadata": {},
   "source": [
    "## Tuning other hyperparameters"
   ]
  },
  {
   "cell_type": "code",
   "execution_count": 18,
   "id": "c5485c04-6e95-485c-a0f7-54c63ff0f212",
   "metadata": {},
   "outputs": [
    {
     "ename": "ValueError",
     "evalue": "When beta_loss <= 0 and X contains zeros, the solver may diverge. Please add small values to X, or use a positive beta_loss.",
     "output_type": "error",
     "traceback": [
      "\u001b[1;31m---------------------------------------------------------------------------\u001b[0m",
      "\u001b[1;31mValueError\u001b[0m                                Traceback (most recent call last)",
      "Cell \u001b[1;32mIn[18], line 7\u001b[0m\n\u001b[0;32m      5\u001b[0m test_models \u001b[38;5;241m=\u001b[39m []\n\u001b[0;32m      6\u001b[0m \u001b[38;5;28;01mfor\u001b[39;00m i \u001b[38;5;129;01min\u001b[39;00m models:\n\u001b[1;32m----> 7\u001b[0m     W \u001b[38;5;241m=\u001b[39m \u001b[43mi\u001b[49m\u001b[38;5;241;43m.\u001b[39;49m\u001b[43mfit_transform\u001b[49m\u001b[43m(\u001b[49m\u001b[43mnp\u001b[49m\u001b[38;5;241;43m.\u001b[39;49m\u001b[43masarray\u001b[49m\u001b[43m(\u001b[49m\u001b[43msubset_matrix\u001b[49m\u001b[43m)\u001b[49m\u001b[43m)\u001b[49m\n\u001b[0;32m      8\u001b[0m     H \u001b[38;5;241m=\u001b[39m i\u001b[38;5;241m.\u001b[39mcomponents_\n\u001b[0;32m      9\u001b[0m     test_models\u001b[38;5;241m.\u001b[39mappend((i, W, H))\n",
      "File \u001b[1;32m~\\AppData\\Local\\Programs\\Python\\Python312\\Lib\\site-packages\\sklearn\\utils\\_set_output.py:313\u001b[0m, in \u001b[0;36m_wrap_method_output.<locals>.wrapped\u001b[1;34m(self, X, *args, **kwargs)\u001b[0m\n\u001b[0;32m    311\u001b[0m \u001b[38;5;129m@wraps\u001b[39m(f)\n\u001b[0;32m    312\u001b[0m \u001b[38;5;28;01mdef\u001b[39;00m \u001b[38;5;21mwrapped\u001b[39m(\u001b[38;5;28mself\u001b[39m, X, \u001b[38;5;241m*\u001b[39margs, \u001b[38;5;241m*\u001b[39m\u001b[38;5;241m*\u001b[39mkwargs):\n\u001b[1;32m--> 313\u001b[0m     data_to_wrap \u001b[38;5;241m=\u001b[39m \u001b[43mf\u001b[49m\u001b[43m(\u001b[49m\u001b[38;5;28;43mself\u001b[39;49m\u001b[43m,\u001b[49m\u001b[43m \u001b[49m\u001b[43mX\u001b[49m\u001b[43m,\u001b[49m\u001b[43m \u001b[49m\u001b[38;5;241;43m*\u001b[39;49m\u001b[43margs\u001b[49m\u001b[43m,\u001b[49m\u001b[43m \u001b[49m\u001b[38;5;241;43m*\u001b[39;49m\u001b[38;5;241;43m*\u001b[39;49m\u001b[43mkwargs\u001b[49m\u001b[43m)\u001b[49m\n\u001b[0;32m    314\u001b[0m     \u001b[38;5;28;01mif\u001b[39;00m \u001b[38;5;28misinstance\u001b[39m(data_to_wrap, \u001b[38;5;28mtuple\u001b[39m):\n\u001b[0;32m    315\u001b[0m         \u001b[38;5;66;03m# only wrap the first output for cross decomposition\u001b[39;00m\n\u001b[0;32m    316\u001b[0m         return_tuple \u001b[38;5;241m=\u001b[39m (\n\u001b[0;32m    317\u001b[0m             _wrap_data_with_container(method, data_to_wrap[\u001b[38;5;241m0\u001b[39m], X, \u001b[38;5;28mself\u001b[39m),\n\u001b[0;32m    318\u001b[0m             \u001b[38;5;241m*\u001b[39mdata_to_wrap[\u001b[38;5;241m1\u001b[39m:],\n\u001b[0;32m    319\u001b[0m         )\n",
      "File \u001b[1;32m~\\AppData\\Local\\Programs\\Python\\Python312\\Lib\\site-packages\\sklearn\\base.py:1473\u001b[0m, in \u001b[0;36m_fit_context.<locals>.decorator.<locals>.wrapper\u001b[1;34m(estimator, *args, **kwargs)\u001b[0m\n\u001b[0;32m   1466\u001b[0m     estimator\u001b[38;5;241m.\u001b[39m_validate_params()\n\u001b[0;32m   1468\u001b[0m \u001b[38;5;28;01mwith\u001b[39;00m config_context(\n\u001b[0;32m   1469\u001b[0m     skip_parameter_validation\u001b[38;5;241m=\u001b[39m(\n\u001b[0;32m   1470\u001b[0m         prefer_skip_nested_validation \u001b[38;5;129;01mor\u001b[39;00m global_skip_validation\n\u001b[0;32m   1471\u001b[0m     )\n\u001b[0;32m   1472\u001b[0m ):\n\u001b[1;32m-> 1473\u001b[0m     \u001b[38;5;28;01mreturn\u001b[39;00m \u001b[43mfit_method\u001b[49m\u001b[43m(\u001b[49m\u001b[43mestimator\u001b[49m\u001b[43m,\u001b[49m\u001b[43m \u001b[49m\u001b[38;5;241;43m*\u001b[39;49m\u001b[43margs\u001b[49m\u001b[43m,\u001b[49m\u001b[43m \u001b[49m\u001b[38;5;241;43m*\u001b[39;49m\u001b[38;5;241;43m*\u001b[39;49m\u001b[43mkwargs\u001b[49m\u001b[43m)\u001b[49m\n",
      "File \u001b[1;32m~\\AppData\\Local\\Programs\\Python\\Python312\\Lib\\site-packages\\sklearn\\decomposition\\_nmf.py:1655\u001b[0m, in \u001b[0;36mNMF.fit_transform\u001b[1;34m(self, X, y, W, H)\u001b[0m\n\u001b[0;32m   1650\u001b[0m X \u001b[38;5;241m=\u001b[39m \u001b[38;5;28mself\u001b[39m\u001b[38;5;241m.\u001b[39m_validate_data(\n\u001b[0;32m   1651\u001b[0m     X, accept_sparse\u001b[38;5;241m=\u001b[39m(\u001b[38;5;124m\"\u001b[39m\u001b[38;5;124mcsr\u001b[39m\u001b[38;5;124m\"\u001b[39m, \u001b[38;5;124m\"\u001b[39m\u001b[38;5;124mcsc\u001b[39m\u001b[38;5;124m\"\u001b[39m), dtype\u001b[38;5;241m=\u001b[39m[np\u001b[38;5;241m.\u001b[39mfloat64, np\u001b[38;5;241m.\u001b[39mfloat32]\n\u001b[0;32m   1652\u001b[0m )\n\u001b[0;32m   1654\u001b[0m \u001b[38;5;28;01mwith\u001b[39;00m config_context(assume_finite\u001b[38;5;241m=\u001b[39m\u001b[38;5;28;01mTrue\u001b[39;00m):\n\u001b[1;32m-> 1655\u001b[0m     W, H, n_iter \u001b[38;5;241m=\u001b[39m \u001b[38;5;28;43mself\u001b[39;49m\u001b[38;5;241;43m.\u001b[39;49m\u001b[43m_fit_transform\u001b[49m\u001b[43m(\u001b[49m\u001b[43mX\u001b[49m\u001b[43m,\u001b[49m\u001b[43m \u001b[49m\u001b[43mW\u001b[49m\u001b[38;5;241;43m=\u001b[39;49m\u001b[43mW\u001b[49m\u001b[43m,\u001b[49m\u001b[43m \u001b[49m\u001b[43mH\u001b[49m\u001b[38;5;241;43m=\u001b[39;49m\u001b[43mH\u001b[49m\u001b[43m)\u001b[49m\n\u001b[0;32m   1657\u001b[0m \u001b[38;5;28mself\u001b[39m\u001b[38;5;241m.\u001b[39mreconstruction_err_ \u001b[38;5;241m=\u001b[39m _beta_divergence(\n\u001b[0;32m   1658\u001b[0m     X, W, H, \u001b[38;5;28mself\u001b[39m\u001b[38;5;241m.\u001b[39m_beta_loss, square_root\u001b[38;5;241m=\u001b[39m\u001b[38;5;28;01mTrue\u001b[39;00m\n\u001b[0;32m   1659\u001b[0m )\n\u001b[0;32m   1661\u001b[0m \u001b[38;5;28mself\u001b[39m\u001b[38;5;241m.\u001b[39mn_components_ \u001b[38;5;241m=\u001b[39m H\u001b[38;5;241m.\u001b[39mshape[\u001b[38;5;241m0\u001b[39m]\n",
      "File \u001b[1;32m~\\AppData\\Local\\Programs\\Python\\Python312\\Lib\\site-packages\\sklearn\\decomposition\\_nmf.py:1712\u001b[0m, in \u001b[0;36mNMF._fit_transform\u001b[1;34m(self, X, y, W, H, update_H)\u001b[0m\n\u001b[0;32m   1709\u001b[0m \u001b[38;5;28mself\u001b[39m\u001b[38;5;241m.\u001b[39m_check_params(X)\n\u001b[0;32m   1711\u001b[0m \u001b[38;5;28;01mif\u001b[39;00m X\u001b[38;5;241m.\u001b[39mmin() \u001b[38;5;241m==\u001b[39m \u001b[38;5;241m0\u001b[39m \u001b[38;5;129;01mand\u001b[39;00m \u001b[38;5;28mself\u001b[39m\u001b[38;5;241m.\u001b[39m_beta_loss \u001b[38;5;241m<\u001b[39m\u001b[38;5;241m=\u001b[39m \u001b[38;5;241m0\u001b[39m:\n\u001b[1;32m-> 1712\u001b[0m     \u001b[38;5;28;01mraise\u001b[39;00m \u001b[38;5;167;01mValueError\u001b[39;00m(\n\u001b[0;32m   1713\u001b[0m         \u001b[38;5;124m\"\u001b[39m\u001b[38;5;124mWhen beta_loss <= 0 and X contains zeros, \u001b[39m\u001b[38;5;124m\"\u001b[39m\n\u001b[0;32m   1714\u001b[0m         \u001b[38;5;124m\"\u001b[39m\u001b[38;5;124mthe solver may diverge. Please add small values \u001b[39m\u001b[38;5;124m\"\u001b[39m\n\u001b[0;32m   1715\u001b[0m         \u001b[38;5;124m\"\u001b[39m\u001b[38;5;124mto X, or use a positive beta_loss.\u001b[39m\u001b[38;5;124m\"\u001b[39m\n\u001b[0;32m   1716\u001b[0m     )\n\u001b[0;32m   1718\u001b[0m \u001b[38;5;66;03m# initialize or check W and H\u001b[39;00m\n\u001b[0;32m   1719\u001b[0m W, H \u001b[38;5;241m=\u001b[39m \u001b[38;5;28mself\u001b[39m\u001b[38;5;241m.\u001b[39m_check_w_h(X, W, H, update_H)\n",
      "\u001b[1;31mValueError\u001b[0m: When beta_loss <= 0 and X contains zeros, the solver may diverge. Please add small values to X, or use a positive beta_loss."
     ]
    }
   ],
   "source": [
    "# Test different hyperparameters with subset\n",
    "models = [NMF(n_components = 40, solver = 'mu', init = 'nndsvdar', max_iter = 400, random_state = 0), \n",
    "          NMF(n_components = 40, solver = 'mu', init = 'nndsvdar', beta_loss = 'kullback-leibler', max_iter = 400, random_state = 0)]\n",
    "test_models = []\n",
    "for i in models:\n",
    "    W = i.fit_transform(np.asarray(subset_matrix))\n",
    "    H = i.components_\n",
    "    test_models.append((i, W, H))\n"
   ]
  },
  {
   "cell_type": "code",
   "execution_count": 24,
   "id": "719c7a79-391a-4754-84b4-d78e10667904",
   "metadata": {},
   "outputs": [
    {
     "name": "stdout",
     "output_type": "stream",
     "text": [
      "0.6380419507622719\n",
      "0.6065995387732983\n"
     ]
    }
   ],
   "source": [
    "# Coherence for each different model\n",
    "coherences = []\n",
    "for (i, W, H) in test_models:\n",
    "    term_rankings = []\n",
    "    for topic_index in range(40):\n",
    "        term_rankings.append(get_descriptor(vocabulary, H, topic_index, 10))\n",
    "    mean_coherence, topic_scores = calculate_coherence(w2v_model, term_rankings)\n",
    "    coherences.append(mean_coherence)\n",
    "    print(coherences[-1])"
   ]
  },
  {
   "cell_type": "code",
   "execution_count": 28,
   "id": "293cdf72-c963-4a94-9eb6-ad6aac151acd",
   "metadata": {},
   "outputs": [
    {
     "name": "stdout",
     "output_type": "stream",
     "text": [
      "0.6545277275145054\n",
      "0.6405277155339718\n",
      "0.6569411434233189\n",
      "0.6506180994212627\n",
      "0.6649139992892742\n"
     ]
    }
   ],
   "source": [
    "# Evaluate coherence of other subsets using optimal model\n",
    "optimal = NMF(n_components = i, init = 'nndsvd', max_iter = 400, random_state = 0)\n",
    "subsets = []\n",
    "for i in range(5):\n",
    "    subsets.append(books_df.sample(frac = 0.25, random_state = i+1))\n",
    "\n",
    "for subset in subsets:\n",
    "    matrix = tfidf.fit_transform(subset['description']).todense()\n",
    "    vocabulary = np.array(tfidf.get_feature_names_out())\n",
    "    docgen = TokenGenerator(subset['description'])\n",
    "    w2v_model = gensim.models.Word2Vec(docgen, min_count = 2)\n",
    "    W = optimal.fit_transform(np.asarray(matrix))\n",
    "    H = optimal.components_\n",
    "    coherences = []\n",
    "    term_rankings = []\n",
    "    for topic_index in range(40):\n",
    "        term_rankings.append(get_descriptor(vocabulary, H, topic_index, 10))\n",
    "    mean_coherence, topic_scores = calculate_coherence(w2v_model, term_rankings)\n",
    "    coherences.append(mean_coherence)\n",
    "    print(coherences[-1])"
   ]
  },
  {
   "cell_type": "code",
   "execution_count": 29,
   "id": "290af536-3306-4932-bce0-4a021d69c252",
   "metadata": {},
   "outputs": [
    {
     "name": "stdout",
     "output_type": "stream",
     "text": [
      "Topic 01: world, international, ii, modern, peace, place, global, today, country, humanity\n",
      "Topic 02: problem, solution, solving, mathematical, mathematics, engineering, solve, application, number, equation\n",
      "Topic 03: een, en, van, het, zijn, te, op, voor, met, haar\n",
      "Topic 04: history, historian, historical, event, account, period, present, narrative, fascinating, past\n",
      "Topic 05: god, faith, christ, truth, divine, glory, grace, lord, eternal, believer\n",
      "Topic 06: la, que, en, el, una, los, su, se, para, del\n",
      "Topic 07: management, manager, organization, risk, leadership, software, resource, team, strategy, company\n",
      "Topic 08: child, adult, childhood, young, development, birth, age, abuse, infant, special\n",
      "Topic 09: recipe, cookbook, cooking, cook, meal, dish, kitchen, delicious, ingredient, bread\n",
      "Topic 10: war, civil, army, battle, soldier, military, german, ii, conflict, men\n",
      "Topic 11: help, understand, practical, skill, advice, need, learn, offer, idea, situation\n",
      "Topic 12: career, job, resume, professional, interview, advice, work, industry, success, seeker\n",
      "Topic 13: woman, men, female, feminist, male, gender, young, mary, husband, daughter\n",
      "Topic 14: brain, mind, psychology, cognitive, mental, memory, consciousness, neuroscience, behavior, process\n",
      "Topic 15: disease, treatment, patient, clinical, medical, cancer, disorder, diagnosis, medicine, therapy\n",
      "Topic 16: wa, published, knew, later, born, came, time, took, went, began\n",
      "Topic 17: artist, comic, painting, drawing, work, painter, artistic, creative, figure, artwork\n",
      "Topic 18: language, linguistic, linguistics, dictionary, linguist, speech, use, spoken, second, latin\n",
      "Topic 19: test, prep, act, score, rea, scoring, testing, explanation, online, length\n",
      "Topic 20: work, important, united, reproduced, copyright, original, public, scholar, state, knowledge\n",
      "Topic 21: exam, review, certification, ap, prep, cd, topic, cram, content, preparation\n",
      "Topic 22: research, researcher, field, qualitative, psychology, paper, academic, social, issue, method\n",
      "Topic 23: film, movie, cinema, hollywood, director, star, filmmaker, production, actor, television\n",
      "Topic 24: tale, fairy, collection, adventure, myth, chaucer, legend, classic, sea, hero\n",
      "Topic 25: edition, new, updated, revised, second, expanded, includes, latest, coverage, feature\n",
      "Topic 26: theology, biblical, theological, commentary, testament, pericope, theologian, meaning, issue, context\n",
      "Topic 27: network, security, window, server, linux, networking, administrator, internet, ip, microsoft\n",
      "Topic 28: life, experience, living, personal, death, change, live, daily, way, journey\n",
      "Topic 29: love, heart, romance, romantic, fall, passion, beautiful, wedding, loved, bestselling\n",
      "Topic 30: play, shakespeare, role, playwright, guitar, drama, theatre, stage, character, theater\n",
      "Topic 31: guide, information, reference, comprehensive, essential, easy, need, provides, expert, cover\n",
      "Topic 32: bible, biblical, scripture, testament, translation, page, concordance, prophecy, verse, passage\n",
      "Topic 33: secret, magic, dark, king, romance, enemy, adventure, fantasy, evil, series\n",
      "Topic 34: rule, conduct, court, professional, action, disqualification, discretionary, sanction, jurisdiction, malpractice\n",
      "Topic 35: garden, plant, gardening, gardener, planting, flower, tree, soil, herb, forest\n",
      "Topic 36: art, martial, technique, gallery, painting, style, sculpture, form, artistic, aesthetic\n",
      "Topic 37: family, generation, member, town, sister, brother, son, friend, house, community\n",
      "Topic 38: music, musical, song, composer, rock, musician, band, jazz, piano, guitar\n",
      "Topic 39: press, good, fiction, undiscovered, ebooks, literature, formatted, readability, encompasses, digital\n",
      "Topic 40: john, james, william, david, george, thomas, robert, henry, mary, richard\n"
     ]
    }
   ],
   "source": [
    "# Print keywords for each topic for one of the subsets\n",
    "for topic_index in range(40):\n",
    "    descriptor = get_descriptor(vocabulary, H, topic_index, 10)\n",
    "    str_descriptor = \", \".join(descriptor)\n",
    "    print(\"Topic %02d: %s\" % (topic_index+1, str_descriptor))\n",
    "    "
   ]
  }
 ],
 "metadata": {
  "kernelspec": {
   "display_name": "Python 3 (ipykernel)",
   "language": "python",
   "name": "python3"
  },
  "language_info": {
   "codemirror_mode": {
    "name": "ipython",
    "version": 3
   },
   "file_extension": ".py",
   "mimetype": "text/x-python",
   "name": "python",
   "nbconvert_exporter": "python",
   "pygments_lexer": "ipython3",
   "version": "3.12.2"
  }
 },
 "nbformat": 4,
 "nbformat_minor": 5
}
